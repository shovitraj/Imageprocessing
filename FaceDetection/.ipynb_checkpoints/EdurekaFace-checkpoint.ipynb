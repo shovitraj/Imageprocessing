{
 "cells": [
  {
   "cell_type": "code",
   "execution_count": 6,
   "id": "stuck-progressive",
   "metadata": {},
   "outputs": [],
   "source": [
    "%config IPCompleter.use_jedi = False "
   ]
  },
  {
   "cell_type": "code",
   "execution_count": 7,
   "id": "representative-arkansas",
   "metadata": {},
   "outputs": [
    {
     "name": "stdout",
     "output_type": "stream",
     "text": [
      "Open-CV version:4.5.2\n"
     ]
    }
   ],
   "source": [
    "import cv2\n",
    "print('Open-CV version:{}'.format(cv2.__version__))"
   ]
  },
  {
   "cell_type": "code",
   "execution_count": 23,
   "id": "major-syndication",
   "metadata": {},
   "outputs": [],
   "source": [
    "#convert to grayscale\n",
    "img = cv2.imread('test1.jpg',1)\n",
    "#convert to grayscale\n",
    "imgg = cv2.imread('test1.jpg',0)"
   ]
  },
  {
   "cell_type": "code",
   "execution_count": 24,
   "id": "secure-student",
   "metadata": {},
   "outputs": [
    {
     "name": "stdout",
     "output_type": "stream",
     "text": [
      "RGB Shape:(533, 799, 3)\n",
      "Grayscale Shape:(533, 799)\n"
     ]
    }
   ],
   "source": [
    "#size of an array\n",
    "print('RGB Shape:{}'.format(img.shape))\n",
    "\n",
    "print('Grayscale Shape:{}'.format(imgg.shape))"
   ]
  },
  {
   "cell_type": "code",
   "execution_count": 15,
   "id": "front-parking",
   "metadata": {},
   "outputs": [
    {
     "data": {
      "text/plain": [
       "<function ndarray.all>"
      ]
     },
     "execution_count": 15,
     "metadata": {},
     "output_type": "execute_result"
    }
   ],
   "source": [
    "img.all"
   ]
  },
  {
   "cell_type": "code",
   "execution_count": 25,
   "id": "variable-bulgarian",
   "metadata": {},
   "outputs": [
    {
     "name": "stdout",
     "output_type": "stream",
     "text": [
      "RGB Array:[[[255 255 255]\n",
      "  [255 255 255]\n",
      "  [255 255 255]\n",
      "  ...\n",
      "  [232 230 230]\n",
      "  [232 230 230]\n",
      "  [232 230 230]]\n",
      "\n",
      " [[255 255 255]\n",
      "  [255 255 255]\n",
      "  [255 255 255]\n",
      "  ...\n",
      "  [232 230 230]\n",
      "  [232 230 230]\n",
      "  [232 230 230]]\n",
      "\n",
      " [[255 255 255]\n",
      "  [255 255 255]\n",
      "  [255 255 255]\n",
      "  ...\n",
      "  [232 230 230]\n",
      "  [232 230 230]\n",
      "  [232 230 230]]\n",
      "\n",
      " ...\n",
      "\n",
      " [[142 166 194]\n",
      "  [152 174 202]\n",
      "  [151 172 200]\n",
      "  ...\n",
      "  [100 169 239]\n",
      "  [ 99 168 238]\n",
      "  [ 99 168 238]]\n",
      "\n",
      " [[150 158 181]\n",
      "  [141 147 170]\n",
      "  [148 154 177]\n",
      "  ...\n",
      "  [100 169 238]\n",
      "  [100 169 238]\n",
      "  [ 99 168 237]]\n",
      "\n",
      " [[149 158 185]\n",
      "  [144 152 181]\n",
      "  [146 154 183]\n",
      "  ...\n",
      "  [100 169 238]\n",
      "  [ 99 168 237]\n",
      "  [ 98 167 236]]]\n",
      "Grayscale Array:[[255 255 255 ... 230 230 230]\n",
      " [255 255 255 ... 230 230 230]\n",
      " [255 255 255 ... 230 230 230]\n",
      " ...\n",
      " [172 180 178 ... 182 181 181]\n",
      " [164 153 160 ... 182 182 181]\n",
      " [165 160 162 ... 182 181 180]]\n"
     ]
    }
   ],
   "source": [
    "#array\n",
    "\n",
    "print('RGB Array:{}'.format(img))\n",
    "print('Grayscale Array:{}'.format(imgg))"
   ]
  },
  {
   "cell_type": "code",
   "execution_count": 26,
   "id": "chinese-bidder",
   "metadata": {},
   "outputs": [
    {
     "name": "stdout",
     "output_type": "stream",
     "text": [
      "<class 'numpy.ndarray'>\n",
      "<class 'numpy.ndarray'>\n"
     ]
    }
   ],
   "source": [
    "print(type(img))\n",
    "print(type(imgg))"
   ]
  },
  {
   "cell_type": "code",
   "execution_count": 29,
   "id": "frequent-louisiana",
   "metadata": {},
   "outputs": [
    {
     "data": {
      "text/plain": [
       "-1"
      ]
     },
     "execution_count": 29,
     "metadata": {},
     "output_type": "execute_result"
    }
   ],
   "source": [
    "#Display image\n",
    "cv2.imshow('ImageRGB',img)\n",
    "cv2.imshow('ImageGrayscale', imgg)\n",
    "cv2.waitKey(1000)"
   ]
  },
  {
   "cell_type": "code",
   "execution_count": null,
   "id": "understood-classics",
   "metadata": {},
   "outputs": [],
   "source": []
  }
 ],
 "metadata": {
  "kernelspec": {
   "display_name": "Python 3",
   "language": "python",
   "name": "python3"
  },
  "language_info": {
   "codemirror_mode": {
    "name": "ipython",
    "version": 3
   },
   "file_extension": ".py",
   "mimetype": "text/x-python",
   "name": "python",
   "nbconvert_exporter": "python",
   "pygments_lexer": "ipython3",
   "version": "3.9.1"
  },
  "latex_envs": {
   "LaTeX_envs_menu_present": true,
   "autoclose": false,
   "autocomplete": true,
   "bibliofile": "biblio.bib",
   "cite_by": "apalike",
   "current_citInitial": 1,
   "eqLabelWithNumbers": true,
   "eqNumInitial": 1,
   "hotkeys": {
    "equation": "Ctrl-E",
    "itemize": "Ctrl-I"
   },
   "labels_anchors": false,
   "latex_user_defs": false,
   "report_style_numbering": false,
   "user_envs_cfg": false
  },
  "nbTranslate": {
   "displayLangs": [
    "*"
   ],
   "hotkey": "alt-t",
   "langInMainMenu": true,
   "sourceLang": "en",
   "targetLang": "fr",
   "useGoogleTranslate": true
  },
  "toc": {
   "base_numbering": 1,
   "nav_menu": {},
   "number_sections": true,
   "sideBar": true,
   "skip_h1_title": false,
   "title_cell": "Table of Contents",
   "title_sidebar": "Contents",
   "toc_cell": false,
   "toc_position": {},
   "toc_section_display": true,
   "toc_window_display": false
  },
  "varInspector": {
   "cols": {
    "lenName": 16,
    "lenType": 16,
    "lenVar": 40
   },
   "kernels_config": {
    "python": {
     "delete_cmd_postfix": "",
     "delete_cmd_prefix": "del ",
     "library": "var_list.py",
     "varRefreshCmd": "print(var_dic_list())"
    },
    "r": {
     "delete_cmd_postfix": ") ",
     "delete_cmd_prefix": "rm(",
     "library": "var_list.r",
     "varRefreshCmd": "cat(var_dic_list()) "
    }
   },
   "types_to_exclude": [
    "module",
    "function",
    "builtin_function_or_method",
    "instance",
    "_Feature"
   ],
   "window_display": false
  }
 },
 "nbformat": 4,
 "nbformat_minor": 5
}
