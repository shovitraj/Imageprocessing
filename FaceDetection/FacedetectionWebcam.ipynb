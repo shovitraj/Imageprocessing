{
 "cells": [
  {
   "cell_type": "code",
   "execution_count": 3,
   "id": "published-domestic",
   "metadata": {},
   "outputs": [],
   "source": [
    "# import cv2\n",
    "\n",
    "# # Load the cascade\n",
    "# face_cascade = cv2.CascadeClassifier('./haarcascade/haarcascade_frontalface_default.xml')\n",
    "\n",
    "# # To capture video from webcam. \n",
    "# cap = cv2.VideoCapture(0)\n",
    "# # To use a video file as input \n",
    "# # cap = cv2.VideoCapture('filename.mp4')\n",
    "\n",
    "\n"
   ]
  },
  {
   "cell_type": "code",
   "execution_count": 1,
   "id": "compound-breathing",
   "metadata": {},
   "outputs": [],
   "source": [
    "# %%writefile webcam_RGB.py\n",
    "import cv2;\n",
    "\n",
    "# Using the Haar Cascade from OpenCV\n",
    "face_cascade = cv2.CascadeClassifier('./haarcascades/haarcascade_frontalface_default.xml');\n",
    "\n",
    "video = cv2.VideoCapture(0);\n",
    "\n",
    "while True:\n",
    "    check, frame = video.read();\n",
    "    \n",
    "    faces = face_cascade.detectMultiScale(frame,\n",
    "                                          scaleFactor=1.1, minNeighbors=5);\n",
    "    for x,y,w,h in faces:\n",
    "        RGB = cv2.rectangle(frame, (x,y), (x+w,y+h), (0,255,0), 3);\n",
    "        \n",
    "    cv2.imshow('Face Detector',RGB);\n",
    "\n",
    "    key = cv2.waitKey(1);\n",
    "\n",
    "    if key == ord('q'):\n",
    "        break;\n",
    "\n",
    "video.release();\n",
    "cv2.destroyAllWindows();\n",
    "\n"
   ]
  },
  {
   "cell_type": "code",
   "execution_count": 9,
   "id": "concrete-tribute",
   "metadata": {},
   "outputs": [
    {
     "name": "stdout",
     "output_type": "stream",
     "text": [
      "Writing webcam_gray.py\n"
     ]
    }
   ],
   "source": [
    "%%writefile webcam_gray.py\n",
    "\n",
    "import cv2;\n",
    "\n",
    "# Using the Haar Cascade from OpenCV\n",
    "face_cascade = cv2.CascadeClassifier('./haarcascades/haarcascade_frontalface_default.xml');\n",
    "\n",
    "video = cv2.VideoCapture(0);\n",
    "\n",
    "while True:\n",
    "    check, frame = video.read();\n",
    "    gray = cv2.cvtColor(frame, cv2.COLOR_BGR2GRAY)\n",
    "    faces = face_cascade.detectMultiScale(gray,\n",
    "                                          scaleFactor=1.1, minNeighbors=5);\n",
    "    for x,y,w,h in faces:\n",
    "        gray = cv2.rectangle(gray, (x,y), (x+w,y+h), (0,255,0), 3);\n",
    "\n",
    "    cv2.imshow('Face Detector',gray);\n",
    "\n",
    "    key = cv2.waitKey(1);\n",
    "\n",
    "    if key == ord('q'):\n",
    "        break;\n",
    "\n",
    "video.release();\n",
    "cv2.destroyAllWindows();\n",
    "\n"
   ]
  },
  {
   "cell_type": "markdown",
   "id": "interesting-washington",
   "metadata": {},
   "source": [
    "[Tutorial](https://www.youtube.com/watch?v=88HdqNDQsEk)"
   ]
  },
  {
   "cell_type": "code",
   "execution_count": 5,
   "id": "breathing-korea",
   "metadata": {},
   "outputs": [],
   "source": [
    "# %%writefile webcam_eye.py\n",
    "import cv2;\n",
    "\n",
    "# Using the Haar Cascade from OpenCV\n",
    "eye_cascade = cv2.CascadeClassifier('./haarcascades/haarcascade_eye.xml');\n",
    "\n",
    "video = cv2.VideoCapture(0);\n",
    "\n",
    "while True:\n",
    "    check, frame = video.read();\n",
    "    \n",
    "    eyes = eye_cascade.detectMultiScale(frame,\n",
    "                                          scaleFactor=1.1, minNeighbors=5);\n",
    "    for x,y,w,h in eyes:\n",
    "        RGB = cv2.rectangle(frame, (x,y), (x+w,y+h), (0,255,0), 3);\n",
    "        \n",
    "    cv2.imshow('Eye Detector',RGB);\n",
    "\n",
    "    key = cv2.waitKey(1);\n",
    "\n",
    "    if key == ord('q'):\n",
    "        break;\n",
    "\n",
    "video.release();\n",
    "cv2.destroyAllWindows();"
   ]
  },
  {
   "cell_type": "code",
   "execution_count": 9,
   "id": "incorporated-belgium",
   "metadata": {},
   "outputs": [
    {
     "name": "stdout",
     "output_type": "stream",
     "text": [
      "Overwriting webcam_smile.py\n"
     ]
    }
   ],
   "source": [
    "%%writefile webcam_smile.py\n",
    "import cv2;\n",
    "\n",
    "# Using the Haar Cascade from OpenCV\n",
    "smile_cascade = cv2.CascadeClassifier('./haarcascades/haarcascade_smile.xml');\n",
    "\n",
    "video = cv2.VideoCapture(0);\n",
    "\n",
    "while True:\n",
    "    check, frame = video.read();\n",
    "    \n",
    "    smile = smile_cascade.detectMultiScale(frame,\n",
    "                                          scaleFactor=1.1, minNeighbors=5);\n",
    "    for x,y,w,h in eyes:\n",
    "        RGB = cv2.rectangle(frame, (x,y), (x+w,y+h), (0,255,0), 3);\n",
    "        \n",
    "    cv2.imshow('Smile Detector',RGB);\n",
    "\n",
    "    key = cv2.waitKey(1);\n",
    "\n",
    "    if key == ord('q'):\n",
    "        break;\n",
    "\n",
    "video.release();\n",
    "cv2.destroyAllWindows();"
   ]
  },
  {
   "cell_type": "code",
   "execution_count": null,
   "id": "absent-indian",
   "metadata": {},
   "outputs": [],
   "source": []
  }
 ],
 "metadata": {
  "kernelspec": {
   "display_name": "Python 3",
   "language": "python",
   "name": "python3"
  },
  "language_info": {
   "codemirror_mode": {
    "name": "ipython",
    "version": 3
   },
   "file_extension": ".py",
   "mimetype": "text/x-python",
   "name": "python",
   "nbconvert_exporter": "python",
   "pygments_lexer": "ipython3",
   "version": "3.9.1"
  },
  "latex_envs": {
   "LaTeX_envs_menu_present": true,
   "autoclose": false,
   "autocomplete": true,
   "bibliofile": "biblio.bib",
   "cite_by": "apalike",
   "current_citInitial": 1,
   "eqLabelWithNumbers": true,
   "eqNumInitial": 1,
   "hotkeys": {
    "equation": "Ctrl-E",
    "itemize": "Ctrl-I"
   },
   "labels_anchors": false,
   "latex_user_defs": false,
   "report_style_numbering": false,
   "user_envs_cfg": false
  },
  "nbTranslate": {
   "displayLangs": [
    "*"
   ],
   "hotkey": "alt-t",
   "langInMainMenu": true,
   "sourceLang": "en",
   "targetLang": "fr",
   "useGoogleTranslate": true
  },
  "toc": {
   "base_numbering": 1,
   "nav_menu": {},
   "number_sections": true,
   "sideBar": true,
   "skip_h1_title": false,
   "title_cell": "Table of Contents",
   "title_sidebar": "Contents",
   "toc_cell": false,
   "toc_position": {},
   "toc_section_display": true,
   "toc_window_display": false
  },
  "varInspector": {
   "cols": {
    "lenName": 16,
    "lenType": 16,
    "lenVar": 40
   },
   "kernels_config": {
    "python": {
     "delete_cmd_postfix": "",
     "delete_cmd_prefix": "del ",
     "library": "var_list.py",
     "varRefreshCmd": "print(var_dic_list())"
    },
    "r": {
     "delete_cmd_postfix": ") ",
     "delete_cmd_prefix": "rm(",
     "library": "var_list.r",
     "varRefreshCmd": "cat(var_dic_list()) "
    }
   },
   "types_to_exclude": [
    "module",
    "function",
    "builtin_function_or_method",
    "instance",
    "_Feature"
   ],
   "window_display": false
  }
 },
 "nbformat": 4,
 "nbformat_minor": 5
}
