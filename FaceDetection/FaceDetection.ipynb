{
 "cells": [
  {
   "cell_type": "markdown",
   "id": "atlantic-oxide",
   "metadata": {},
   "source": [
    "### How to Perform Face Detection with Deep Learning\n",
    "[Machine Learning Mastery](https://machinelearningmastery.com/how-to-perform-face-detection-with-classical-and-deep-learning-methods-in-python-with-keras/)"
   ]
  },
  {
   "cell_type": "code",
   "execution_count": 1,
   "id": "departmental-minutes",
   "metadata": {},
   "outputs": [
    {
     "name": "stdout",
     "output_type": "stream",
     "text": [
      "cv2 version: 4.5.2\n"
     ]
    }
   ],
   "source": [
    "#check opencv version\n",
    "import cv2\n",
    "#print version number\n",
    "print(\"cv2 version: {}\".format(cv2.__version__))\n"
   ]
  },
  {
   "cell_type": "code",
   "execution_count": 2,
   "id": "tested-planning",
   "metadata": {},
   "outputs": [],
   "source": [
    "#load the photograph\n",
    "pixels = cv2.imread('test2.jpg')\n",
    "# load the pre-trained model\n",
    "classifier = cv2.CascadeClassifier('./haarcascades/haarcascade_frontalface_default.xml')\n",
    "#perform face detection\n",
    "bboxes = classifier.detectMultiScale(pixels)\n",
    "#print bounding box for each detect face\n",
    "for box in bboxes:\n",
    "    #extract\n",
    "    #extract\n",
    "    x,y, width, height = box\n",
    "    x2, y2 = x+width, y+height\n",
    "    #draw a rectangle over the pixels\n",
    "    cv2.rectangle(pixels, (x,y), (x2, y2), (0,0,255),1)\n",
    "#show the image\n",
    "cv2.imshow('face detection', pixels)\n",
    "#keep the window open until we press a key\n",
    "cv2.waitKey(0)\n",
    "#close the window\n",
    "cv2.destroyAllWindows()    \n",
    "    "
   ]
  },
  {
   "cell_type": "code",
   "execution_count": 4,
   "id": "verbal-alignment",
   "metadata": {},
   "outputs": [],
   "source": [
    "#load the photograph\n",
    "pixels = cv2.imread('test1.jpg')\n",
    "# load the pre-trained model\n",
    "classifier = cv2.CascadeClassifier('./haarcascades/haarcascade_frontalface_default.xml')\n",
    "#perform face detection\n",
    "bboxes = classifier.detectMultiScale(pixels, 1.1, 8)\n",
    "#print bounding box for each detect face\n",
    "for box in bboxes:\n",
    "    #extract\n",
    "    #extract\n",
    "    x,y, width, height = box\n",
    "    x2, y2 = x+width, y+height\n",
    "    #draw a rectangle over the pixels\n",
    "    cv2.rectangle(pixels, (x,y), (x2, y2), (0,0,255),1)\n",
    "#show the image\n",
    "cv2.imshow('face detection', pixels)\n",
    "#keep the window open until we press a key\n",
    "cv2.waitKey(0)\n",
    "#close the window\n",
    "cv2.destroyAllWindows() "
   ]
  },
  {
   "cell_type": "code",
   "execution_count": null,
   "id": "documented-field",
   "metadata": {},
   "outputs": [],
   "source": []
  }
 ],
 "metadata": {
  "kernelspec": {
   "display_name": "Python 3",
   "language": "python",
   "name": "python3"
  },
  "language_info": {
   "codemirror_mode": {
    "name": "ipython",
    "version": 3
   },
   "file_extension": ".py",
   "mimetype": "text/x-python",
   "name": "python",
   "nbconvert_exporter": "python",
   "pygments_lexer": "ipython3",
   "version": "3.9.1"
  },
  "latex_envs": {
   "LaTeX_envs_menu_present": true,
   "autoclose": false,
   "autocomplete": true,
   "bibliofile": "biblio.bib",
   "cite_by": "apalike",
   "current_citInitial": 1,
   "eqLabelWithNumbers": true,
   "eqNumInitial": 1,
   "hotkeys": {
    "equation": "Ctrl-E",
    "itemize": "Ctrl-I"
   },
   "labels_anchors": false,
   "latex_user_defs": false,
   "report_style_numbering": false,
   "user_envs_cfg": false
  },
  "nbTranslate": {
   "displayLangs": [
    "*"
   ],
   "hotkey": "alt-t",
   "langInMainMenu": true,
   "sourceLang": "en",
   "targetLang": "fr",
   "useGoogleTranslate": true
  },
  "toc": {
   "base_numbering": 1,
   "nav_menu": {},
   "number_sections": true,
   "sideBar": true,
   "skip_h1_title": false,
   "title_cell": "Table of Contents",
   "title_sidebar": "Contents",
   "toc_cell": false,
   "toc_position": {},
   "toc_section_display": true,
   "toc_window_display": false
  },
  "varInspector": {
   "cols": {
    "lenName": 16,
    "lenType": 16,
    "lenVar": 40
   },
   "kernels_config": {
    "python": {
     "delete_cmd_postfix": "",
     "delete_cmd_prefix": "del ",
     "library": "var_list.py",
     "varRefreshCmd": "print(var_dic_list())"
    },
    "r": {
     "delete_cmd_postfix": ") ",
     "delete_cmd_prefix": "rm(",
     "library": "var_list.r",
     "varRefreshCmd": "cat(var_dic_list()) "
    }
   },
   "types_to_exclude": [
    "module",
    "function",
    "builtin_function_or_method",
    "instance",
    "_Feature"
   ],
   "window_display": false
  }
 },
 "nbformat": 4,
 "nbformat_minor": 5
}
