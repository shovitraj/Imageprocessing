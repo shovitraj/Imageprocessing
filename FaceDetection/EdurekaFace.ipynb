{
 "cells": [
  {
   "cell_type": "code",
   "execution_count": 1,
   "id": "stuck-progressive",
   "metadata": {},
   "outputs": [],
   "source": [
    "%config IPCompleter.use_jedi = False "
   ]
  },
  {
   "cell_type": "code",
   "execution_count": 12,
   "id": "representative-arkansas",
   "metadata": {},
   "outputs": [
    {
     "name": "stdout",
     "output_type": "stream",
     "text": [
      "Open-CV version:4.5.2\n"
     ]
    }
   ],
   "source": [
    "import cv2\n",
    "print('Open-CV version:{}'.format(cv2.__version__))"
   ]
  },
  {
   "cell_type": "code",
   "execution_count": 13,
   "id": "major-syndication",
   "metadata": {},
   "outputs": [],
   "source": [
    "#convert to grayscale\n",
    "img = cv2.imread('test1.jpg',1)\n",
    "#convert to grayscale\n",
    "imgg = cv2.imread('test1.jpg',0)"
   ]
  },
  {
   "cell_type": "code",
   "execution_count": 14,
   "id": "secure-student",
   "metadata": {},
   "outputs": [
    {
     "name": "stdout",
     "output_type": "stream",
     "text": [
      "RGB Shape:(533, 799, 3)\n",
      "Grayscale Shape:(533, 799)\n"
     ]
    }
   ],
   "source": [
    "#size of an array\n",
    "print('RGB Shape:{}'.format(img.shape))\n",
    "\n",
    "print('Grayscale Shape:{}'.format(imgg.shape))"
   ]
  },
  {
   "cell_type": "code",
   "execution_count": 15,
   "id": "front-parking",
   "metadata": {},
   "outputs": [
    {
     "data": {
      "text/plain": [
       "<function ndarray.all>"
      ]
     },
     "execution_count": 15,
     "metadata": {},
     "output_type": "execute_result"
    }
   ],
   "source": [
    "img.all"
   ]
  },
  {
   "cell_type": "code",
   "execution_count": 16,
   "id": "variable-bulgarian",
   "metadata": {},
   "outputs": [
    {
     "name": "stdout",
     "output_type": "stream",
     "text": [
      "RGB Array:[[[255 255 255]\n",
      "  [255 255 255]\n",
      "  [255 255 255]\n",
      "  ...\n",
      "  [232 230 230]\n",
      "  [232 230 230]\n",
      "  [232 230 230]]\n",
      "\n",
      " [[255 255 255]\n",
      "  [255 255 255]\n",
      "  [255 255 255]\n",
      "  ...\n",
      "  [232 230 230]\n",
      "  [232 230 230]\n",
      "  [232 230 230]]\n",
      "\n",
      " [[255 255 255]\n",
      "  [255 255 255]\n",
      "  [255 255 255]\n",
      "  ...\n",
      "  [232 230 230]\n",
      "  [232 230 230]\n",
      "  [232 230 230]]\n",
      "\n",
      " ...\n",
      "\n",
      " [[142 166 194]\n",
      "  [152 174 202]\n",
      "  [151 172 200]\n",
      "  ...\n",
      "  [100 169 239]\n",
      "  [ 99 168 238]\n",
      "  [ 99 168 238]]\n",
      "\n",
      " [[150 158 181]\n",
      "  [141 147 170]\n",
      "  [148 154 177]\n",
      "  ...\n",
      "  [100 169 238]\n",
      "  [100 169 238]\n",
      "  [ 99 168 237]]\n",
      "\n",
      " [[149 158 185]\n",
      "  [144 152 181]\n",
      "  [146 154 183]\n",
      "  ...\n",
      "  [100 169 238]\n",
      "  [ 99 168 237]\n",
      "  [ 98 167 236]]]\n",
      "Grayscale Array:[[255 255 255 ... 230 230 230]\n",
      " [255 255 255 ... 230 230 230]\n",
      " [255 255 255 ... 230 230 230]\n",
      " ...\n",
      " [172 180 178 ... 182 181 181]\n",
      " [164 153 160 ... 182 182 181]\n",
      " [165 160 162 ... 182 181 180]]\n"
     ]
    }
   ],
   "source": [
    "#array\n",
    "\n",
    "print('RGB Array:{}'.format(img))\n",
    "print('Grayscale Array:{}'.format(imgg))"
   ]
  },
  {
   "cell_type": "code",
   "execution_count": 17,
   "id": "chinese-bidder",
   "metadata": {},
   "outputs": [
    {
     "name": "stdout",
     "output_type": "stream",
     "text": [
      "<class 'numpy.ndarray'>\n",
      "<class 'numpy.ndarray'>\n"
     ]
    }
   ],
   "source": [
    "print(type(img))\n",
    "print(type(imgg))"
   ]
  },
  {
   "cell_type": "code",
   "execution_count": 22,
   "id": "antique-virus",
   "metadata": {},
   "outputs": [],
   "source": [
    "#resize image\n",
    "resized = cv2.resize(img, (int(img.shape[1]*2), int(img.shape[0]*2)))"
   ]
  },
  {
   "cell_type": "code",
   "execution_count": 23,
   "id": "frequent-louisiana",
   "metadata": {},
   "outputs": [],
   "source": [
    "#Display image\n",
    "cv2.imshow('ImageRGB',resized)\n",
    "# cv2.imshow('ImageGrayscale', imgg)\n",
    "cv2.waitKey(0)\n",
    "cv2.destroyAllWindows()"
   ]
  },
  {
   "cell_type": "code",
   "execution_count": 24,
   "id": "understood-classics",
   "metadata": {},
   "outputs": [
    {
     "data": {
      "text/plain": [
       "(1066, 1598, 3)"
      ]
     },
     "execution_count": 24,
     "metadata": {},
     "output_type": "execute_result"
    }
   ],
   "source": [
    "resized.shape"
   ]
  },
  {
   "cell_type": "markdown",
   "id": "patent-northwest",
   "metadata": {},
   "source": [
    "## FaceDetection in an image\n"
   ]
  },
  {
   "cell_type": "code",
   "execution_count": null,
   "id": "objective-austria",
   "metadata": {},
   "outputs": [],
   "source": [
    "# %%writefile face_image.py\n",
    "\n",
    "import cv2\n",
    "\n",
    "# #Create a CascadeClassifier Object\n",
    "# face_cascade = cv2.CascadeClassifier('./haarcascade/haarcascade_frontalface_default.xml')\n",
    "\n",
    "# #Eeading the image as it is\n",
    "# img = cv2.imread('test1.jpg')\n",
    "\n",
    "# #Reading the image as gray scale image\n",
    "# gray_img = cv2.cvtColor(img, cv2.COLOR_BGR2GRAY)\n",
    "#load the photograph\n",
    "pixels = cv2.imread('test1.jpg')\n",
    "# load the pre-trained model\n",
    "classifier = cv2.CascadeClassifier('./haarcascades/haarcascade_frontalface_default.xml')\n",
    "#perform face detection\n",
    "bboxes = classifier.detectMultiScale(pixels, 1.1, 8)\n",
    "#print bounding box for each detect face\n",
    "for box in bboxes:\n",
    "    #extract\n",
    "    #extract\n",
    "    x,y, width, height = box\n",
    "    x2, y2 = x+width, y+height\n",
    "    #draw a rectangle over the pixels\n",
    "    cv2.rectangle(pixels, (x,y), (x2, y2), (0,0,255),1)\n",
    "#show the image\n",
    "cv2.imshow('face detection', pixels)\n",
    "#keep the window open until we press a key\n",
    "cv2.waitKey(0)\n",
    "#close the window\n",
    "cv2.destroyAllWindows()"
   ]
  },
  {
   "cell_type": "code",
   "execution_count": 2,
   "id": "nasty-badge",
   "metadata": {},
   "outputs": [],
   "source": [
    "import cv2;\n",
    "\n",
    "# Using the Haar Cascade from OpenCV\n",
    "face_cascade = cv2.CascadeClassifier('./haarcascades/haarcascade_frontalface_default.xml');\n",
    "\n",
    "video = cv2.VideoCapture(0);\n",
    "\n",
    "while True:\n",
    "    check, frame = video.read();\n",
    "    gray = cv2.cvtColor(frame, cv2.COLOR_BGR2GRAY)\n",
    "    faces = face_cascade.detectMultiScale(gray,\n",
    "                                          scaleFactor=1.1, minNeighbors=5);\n",
    "    for x,y,w,h in faces:\n",
    "        gray = cv2.rectangle(gray, (x,y), (x+w,y+h), (0,255,0), 3);\n",
    "\n",
    "    cv2.imshow('Face Detector',gray);\n",
    "\n",
    "    key = cv2.waitKey(1);\n",
    "\n",
    "    if key == ord('q'):\n",
    "        break;\n",
    "\n",
    "video.release();\n",
    "cv2.destroyAllWindows();\n",
    "\n"
   ]
  },
  {
   "cell_type": "code",
   "execution_count": 7,
   "id": "cutting-voluntary",
   "metadata": {},
   "outputs": [
    {
     "name": "stdout",
     "output_type": "stream",
     "text": [
      "/Users/shovitraj/Github/OpenCV/FaceDetection\r\n"
     ]
    }
   ],
   "source": [
    "!pwd"
   ]
  },
  {
   "cell_type": "code",
   "execution_count": 3,
   "id": "realistic-breed",
   "metadata": {},
   "outputs": [
    {
     "name": "stdout",
     "output_type": "stream",
     "text": [
      "Writing face_webcam.py\n"
     ]
    }
   ],
   "source": [
    "%%writefile face_webcam.py\n",
    "\n",
    "import cv2;\n",
    "\n",
    "face_cascade = cv2.CascadeClassifier('./haarcascades/haarcascade_frontalface_default.xml');\n",
    "\n",
    "video = cv2.VideoCapture(0);\n",
    "\n",
    "while True:\n",
    "    check, frame = video.read();\n",
    "    faces = face_cascade.detectMultiScale(frame,\n",
    "                                          scaleFactor=1.1, minNeighbors=5);\n",
    "    for x,y,w,h in faces:\n",
    "        frame = cv2.rectangle(frame, (x,y), (x+w,y+h), (0,255,0), 3);\n",
    "\n",
    "    cv2.imshow('Face Detector', frame);\n",
    "\n",
    "    key = cv2.waitKey(1);\n",
    "\n",
    "    if key == ord('q'):\n",
    "        break;\n",
    "\n",
    "video.release();\n",
    "cv2.destroyAllWindows();\n"
   ]
  },
  {
   "cell_type": "code",
   "execution_count": 2,
   "id": "dental-framework",
   "metadata": {},
   "outputs": [],
   "source": [
    "# %%writefile eye_image.py\n",
    "\n",
    "import cv2\n",
    "\n",
    "pixels = cv2.imread('test1.jpg')\n",
    "# load the pre-trained model\n",
    "classifier = cv2.CascadeClassifier('./haarcascades/haarcascade_eye.xml')\n",
    "#perform face detection\n",
    "bboxes = classifier.detectMultiScale(pixels, 1.1, 8)\n",
    "#print bounding box for each detect face\n",
    "for box in bboxes:\n",
    "    #extract\n",
    "    #extract\n",
    "    x,y, width, height = box\n",
    "    x2, y2 = x+width, y+height\n",
    "    #draw a rectangle over the pixels\n",
    "    cv2.rectangle(pixels, (x,y), (x2, y2), (0,0,255),1)\n",
    "#show the image\n",
    "cv2.imshow('face detection', pixels)\n",
    "#keep the window open until we press a key\n",
    "cv2.waitKey(0)\n",
    "#close the window\n",
    "cv2.destroyAllWindows() "
   ]
  },
  {
   "cell_type": "code",
   "execution_count": null,
   "id": "affected-ministry",
   "metadata": {},
   "outputs": [],
   "source": [
    "# %%writefile eye_image.py\n",
    "\n",
    "import cv2\n",
    "\n",
    "pixels = cv2.imread('test1.jpg')\n",
    "# load the pre-trained model\n",
    "classifier = cv2.CascadeClassifier('./haarcascades/haarcascade_smile.xml')\n",
    "#perform face detection\n",
    "bboxes = classifier.detectMultiScale(pixels, 1.1, 8)\n",
    "#print bounding box for each detect face\n",
    "for box in bboxes:\n",
    "    #extract\n",
    "    #extract\n",
    "    x,y, width, height = box\n",
    "    x2, y2 = x+width, y+height\n",
    "    #draw a rectangle over the pixels\n",
    "    cv2.rectangle(pixels, (x,y), (x2, y2), (0,0,255),1)\n",
    "#show the image\n",
    "cv2.imshow('face detection', pixels)\n",
    "#keep the window open until we press a key\n",
    "cv2.waitKey(0)\n",
    "#close the window\n",
    "cv2.destroyAllWindows() "
   ]
  },
  {
   "cell_type": "code",
   "execution_count": null,
   "id": "enabling-explanation",
   "metadata": {},
   "outputs": [],
   "source": []
  }
 ],
 "metadata": {
  "kernelspec": {
   "display_name": "Python 3",
   "language": "python",
   "name": "python3"
  },
  "language_info": {
   "codemirror_mode": {
    "name": "ipython",
    "version": 3
   },
   "file_extension": ".py",
   "mimetype": "text/x-python",
   "name": "python",
   "nbconvert_exporter": "python",
   "pygments_lexer": "ipython3",
   "version": "3.9.1"
  },
  "latex_envs": {
   "LaTeX_envs_menu_present": true,
   "autoclose": false,
   "autocomplete": true,
   "bibliofile": "biblio.bib",
   "cite_by": "apalike",
   "current_citInitial": 1,
   "eqLabelWithNumbers": true,
   "eqNumInitial": 1,
   "hotkeys": {
    "equation": "Ctrl-E",
    "itemize": "Ctrl-I"
   },
   "labels_anchors": false,
   "latex_user_defs": false,
   "report_style_numbering": false,
   "user_envs_cfg": false
  },
  "nbTranslate": {
   "displayLangs": [
    "*"
   ],
   "hotkey": "alt-t",
   "langInMainMenu": true,
   "sourceLang": "en",
   "targetLang": "fr",
   "useGoogleTranslate": true
  },
  "toc": {
   "base_numbering": 1,
   "nav_menu": {},
   "number_sections": true,
   "sideBar": true,
   "skip_h1_title": false,
   "title_cell": "Table of Contents",
   "title_sidebar": "Contents",
   "toc_cell": false,
   "toc_position": {},
   "toc_section_display": true,
   "toc_window_display": false
  },
  "varInspector": {
   "cols": {
    "lenName": 16,
    "lenType": 16,
    "lenVar": 40
   },
   "kernels_config": {
    "python": {
     "delete_cmd_postfix": "",
     "delete_cmd_prefix": "del ",
     "library": "var_list.py",
     "varRefreshCmd": "print(var_dic_list())"
    },
    "r": {
     "delete_cmd_postfix": ") ",
     "delete_cmd_prefix": "rm(",
     "library": "var_list.r",
     "varRefreshCmd": "cat(var_dic_list()) "
    }
   },
   "types_to_exclude": [
    "module",
    "function",
    "builtin_function_or_method",
    "instance",
    "_Feature"
   ],
   "window_display": false
  }
 },
 "nbformat": 4,
 "nbformat_minor": 5
}
